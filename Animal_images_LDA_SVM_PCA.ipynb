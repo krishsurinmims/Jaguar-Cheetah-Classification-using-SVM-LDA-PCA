{
  "nbformat": 4,
  "nbformat_minor": 0,
  "metadata": {
    "colab": {
      "provenance": []
    },
    "kernelspec": {
      "name": "python3",
      "display_name": "Python 3"
    },
    "language_info": {
      "name": "python"
    }
  },
  "cells": [
    {
      "cell_type": "code",
      "execution_count": null,
      "metadata": {
        "id": "-Y6L_HcuEeXo"
      },
      "outputs": [],
      "source": [
        "import cv2\n",
        "import os\n",
        "import numpy as np\n",
        "import pandas as pd\n",
        "from sklearn.metrics import confusion_matrix,accuracy_score\n",
        "from sklearn.decomposition import PCA\n",
        "from sklearn.svm import SVC\n",
        "from sklearn.discriminant_analysis import LinearDiscriminantAnalysis as lda"
      ]
    },
    {
      "cell_type": "code",
      "source": [
        "from google.colab import drive\n",
        "drive.mount('/content/drive') "
      ],
      "metadata": {
        "colab": {
          "base_uri": "https://localhost:8080/"
        },
        "id": "b_q78rfcFFj1",
        "outputId": "51adcf2f-28bc-410f-e069-1634e39121e9"
      },
      "execution_count": null,
      "outputs": [
        {
          "output_type": "stream",
          "name": "stdout",
          "text": [
            "Mounted at /content/drive\n"
          ]
        }
      ]
    },
    {
      "cell_type": "code",
      "source": [
        "images = '/content/drive/My Drive/Colab Notebooks/Animals_Folder'\n",
        "images"
      ],
      "metadata": {
        "colab": {
          "base_uri": "https://localhost:8080/",
          "height": 35
        },
        "id": "xVBmBFWWFVxY",
        "outputId": "3d1bb916-3c8a-47fa-e35f-9eeba5c60310"
      },
      "execution_count": null,
      "outputs": [
        {
          "output_type": "execute_result",
          "data": {
            "text/plain": [
              "'/content/drive/My Drive/Colab Notebooks/Animals_Folder'"
            ],
            "application/vnd.google.colaboratory.intrinsic+json": {
              "type": "string"
            }
          },
          "metadata": {},
          "execution_count": 3
        }
      ]
    },
    {
      "cell_type": "code",
      "source": [
        "def load_image(images):\n",
        "  img = []\n",
        "  for i in os.listdir(images):\n",
        "    img1 = cv2.imread(os.path.join(images,i))\n",
        "    img1 = cv2.cvtColor(img1, cv2.COLOR_BGR2GRAY)\n",
        "    img1 = cv2.resize(img1, (128,128))\n",
        "    img.append(img1)\n",
        "  return img"
      ],
      "metadata": {
        "id": "FH05YyeZFgf1"
      },
      "execution_count": null,
      "outputs": []
    },
    {
      "cell_type": "code",
      "source": [
        "Animals = load_image(images)\n",
        "Animals[9].shape"
      ],
      "metadata": {
        "colab": {
          "base_uri": "https://localhost:8080/"
        },
        "id": "YQTE7HTiF_Pp",
        "outputId": "310259fa-dace-4791-ba5a-3f3428599f34"
      },
      "execution_count": null,
      "outputs": [
        {
          "output_type": "execute_result",
          "data": {
            "text/plain": [
              "(128, 128)"
            ]
          },
          "metadata": {},
          "execution_count": 6
        }
      ]
    },
    {
      "cell_type": "code",
      "source": [
        "def get_array(images):\n",
        "  array = np.array(Animals)\n",
        "  array = np.reshape(array, (array.shape[0], array.shape[1] * array.shape[2]))\n",
        "  return array"
      ],
      "metadata": {
        "id": "lhqqEp99GM1f"
      },
      "execution_count": null,
      "outputs": []
    },
    {
      "cell_type": "code",
      "source": [
        "X = get_array(images)\n",
        "X.shape"
      ],
      "metadata": {
        "colab": {
          "base_uri": "https://localhost:8080/"
        },
        "id": "JD-FQ3H9GqTU",
        "outputId": "e8d4db8e-036b-402e-bfb3-4ae011d6b2b2"
      },
      "execution_count": null,
      "outputs": [
        {
          "output_type": "execute_result",
          "data": {
            "text/plain": [
              "(40, 16384)"
            ]
          },
          "metadata": {},
          "execution_count": 8
        }
      ]
    },
    {
      "cell_type": "code",
      "source": [
        "y1 = np.zeros(20, dtype=bool)\n",
        "y2 = np.ones(20, dtype=bool)\n",
        "Y = np.concatenate((y1,y2), axis=0)\n",
        "Y.shape"
      ],
      "metadata": {
        "colab": {
          "base_uri": "https://localhost:8080/"
        },
        "id": "fJKbJ0VEHNRv",
        "outputId": "f73629a2-dacd-4686-f64a-10598a8e20c5"
      },
      "execution_count": null,
      "outputs": [
        {
          "output_type": "execute_result",
          "data": {
            "text/plain": [
              "(40,)"
            ]
          },
          "metadata": {},
          "execution_count": 9
        }
      ]
    },
    {
      "cell_type": "code",
      "source": [
        "svm1 = SVC()\n",
        "svm1.fit(X,Y)"
      ],
      "metadata": {
        "colab": {
          "base_uri": "https://localhost:8080/"
        },
        "id": "_bBoO7-ZHhPd",
        "outputId": "758d647c-e62e-4c2d-fca4-25e6aaa2c5c9"
      },
      "execution_count": null,
      "outputs": [
        {
          "output_type": "execute_result",
          "data": {
            "text/plain": [
              "SVC()"
            ]
          },
          "metadata": {},
          "execution_count": 10
        }
      ]
    },
    {
      "cell_type": "code",
      "source": [
        "print(svm1.support_vectors_)"
      ],
      "metadata": {
        "colab": {
          "base_uri": "https://localhost:8080/"
        },
        "id": "-dLDnZXpHtmE",
        "outputId": "6325a4db-9e93-4390-cbac-503de4d4a4fa"
      },
      "execution_count": null,
      "outputs": [
        {
          "output_type": "stream",
          "name": "stdout",
          "text": [
            "[[ 83.  84.  84. ...  27.  23.  94.]\n",
            " [ 54.  43.  36. ...   2.   3.   2.]\n",
            " [104. 101.  94. ... 173. 171. 167.]\n",
            " ...\n",
            " [ 68.  66.  66. ...  77.  59.  75.]\n",
            " [ 52.  51.  74. ...  55.  56.  44.]\n",
            " [230. 207. 225. ... 139.  78. 129.]]\n"
          ]
        }
      ]
    },
    {
      "cell_type": "code",
      "source": [
        "p = svm1.predict(X)\n",
        "p"
      ],
      "metadata": {
        "colab": {
          "base_uri": "https://localhost:8080/"
        },
        "id": "RXtGyXNDH2vS",
        "outputId": "16f74317-48bf-41b3-cf34-8fa91b444a2e"
      },
      "execution_count": null,
      "outputs": [
        {
          "output_type": "execute_result",
          "data": {
            "text/plain": [
              "array([False, False, False, False, False, False, False, False, False,\n",
              "       False, False,  True, False, False, False, False, False, False,\n",
              "       False, False,  True,  True,  True,  True,  True,  True,  True,\n",
              "        True,  True,  True,  True,  True,  True,  True,  True,  True,\n",
              "        True,  True,  True,  True])"
            ]
          },
          "metadata": {},
          "execution_count": 15
        }
      ]
    },
    {
      "cell_type": "code",
      "source": [
        "cm = confusion_matrix(p,Y)\n",
        "cm"
      ],
      "metadata": {
        "colab": {
          "base_uri": "https://localhost:8080/"
        },
        "id": "hyR2PnbtH998",
        "outputId": "0ff80134-ef7e-45b3-b956-ede0f952e670"
      },
      "execution_count": null,
      "outputs": [
        {
          "output_type": "execute_result",
          "data": {
            "text/plain": [
              "array([[19,  0],\n",
              "       [ 1, 20]])"
            ]
          },
          "metadata": {},
          "execution_count": 13
        }
      ]
    },
    {
      "cell_type": "code",
      "source": [
        "accuracy_score(p,Y)"
      ],
      "metadata": {
        "colab": {
          "base_uri": "https://localhost:8080/"
        },
        "id": "T_kc9JZkICdW",
        "outputId": "df13fb07-bab3-44d7-a24d-157ae2ee216f"
      },
      "execution_count": null,
      "outputs": [
        {
          "output_type": "execute_result",
          "data": {
            "text/plain": [
              "0.975"
            ]
          },
          "metadata": {},
          "execution_count": 14
        }
      ]
    },
    {
      "cell_type": "code",
      "source": [
        "LDA = lda()\n",
        "LDA.fit(X,Y)"
      ],
      "metadata": {
        "colab": {
          "base_uri": "https://localhost:8080/"
        },
        "id": "3VNPiSktILYT",
        "outputId": "9d7a7c63-20e4-4f2b-fa08-195fbd5f8b1c"
      },
      "execution_count": null,
      "outputs": [
        {
          "output_type": "execute_result",
          "data": {
            "text/plain": [
              "LinearDiscriminantAnalysis()"
            ]
          },
          "metadata": {},
          "execution_count": 16
        }
      ]
    },
    {
      "cell_type": "code",
      "source": [
        "LDA.transform(X)"
      ],
      "metadata": {
        "colab": {
          "base_uri": "https://localhost:8080/"
        },
        "id": "7Rz226pmIRzf",
        "outputId": "287911e0-b86e-474a-87b1-0d2ac8a0e5bc"
      },
      "execution_count": null,
      "outputs": [
        {
          "output_type": "execute_result",
          "data": {
            "text/plain": [
              "array([[-1.37256348],\n",
              "       [-1.66459295],\n",
              "       [-1.55512063],\n",
              "       [-1.09063188],\n",
              "       [-1.50191123],\n",
              "       [-1.1523138 ],\n",
              "       [-1.40886893],\n",
              "       [-1.867274  ],\n",
              "       [-1.87382734],\n",
              "       [-1.56313486],\n",
              "       [-1.93365977],\n",
              "       [-0.26334596],\n",
              "       [-1.54570669],\n",
              "       [-2.02917525],\n",
              "       [-1.08001237],\n",
              "       [-1.14048004],\n",
              "       [-1.09222977],\n",
              "       [-1.56125858],\n",
              "       [-1.12382667],\n",
              "       [-1.04577138],\n",
              "       [ 1.81296896],\n",
              "       [ 1.49505346],\n",
              "       [ 1.68602574],\n",
              "       [ 2.02247764],\n",
              "       [ 1.18750769],\n",
              "       [ 1.80268619],\n",
              "       [ 1.74089844],\n",
              "       [ 1.52380092],\n",
              "       [-4.22798837],\n",
              "       [ 1.53270397],\n",
              "       [ 1.71199064],\n",
              "       [ 2.11695437],\n",
              "       [ 1.80268619],\n",
              "       [ 2.00002133],\n",
              "       [ 1.72433319],\n",
              "       [ 1.88693553],\n",
              "       [ 1.61188811],\n",
              "       [ 0.92533838],\n",
              "       [ 1.52380092],\n",
              "       [ 1.98562228]])"
            ]
          },
          "metadata": {},
          "execution_count": 17
        }
      ]
    },
    {
      "cell_type": "code",
      "source": [
        "p = LDA.predict(X)\n",
        "p"
      ],
      "metadata": {
        "colab": {
          "base_uri": "https://localhost:8080/"
        },
        "id": "7oS8XPcTIZc9",
        "outputId": "1d2f0715-3d06-4f96-ce87-6c3e13fbf209"
      },
      "execution_count": null,
      "outputs": [
        {
          "output_type": "execute_result",
          "data": {
            "text/plain": [
              "array([False, False, False, False, False, False, False, False, False,\n",
              "       False, False, False, False, False, False, False, False, False,\n",
              "       False, False,  True,  True,  True,  True,  True,  True,  True,\n",
              "        True, False,  True,  True,  True,  True,  True,  True,  True,\n",
              "        True,  True,  True,  True])"
            ]
          },
          "metadata": {},
          "execution_count": 18
        }
      ]
    },
    {
      "cell_type": "code",
      "source": [
        "cm2 = confusion_matrix(p,Y)\n",
        "cm2"
      ],
      "metadata": {
        "colab": {
          "base_uri": "https://localhost:8080/"
        },
        "id": "hUUZisvPIcu8",
        "outputId": "1df83915-05c3-4c53-8f9d-698d660aab7b"
      },
      "execution_count": null,
      "outputs": [
        {
          "output_type": "execute_result",
          "data": {
            "text/plain": [
              "array([[20,  1],\n",
              "       [ 0, 19]])"
            ]
          },
          "metadata": {},
          "execution_count": 19
        }
      ]
    },
    {
      "cell_type": "code",
      "source": [
        "accuracy_score(p,Y)"
      ],
      "metadata": {
        "colab": {
          "base_uri": "https://localhost:8080/"
        },
        "id": "7qmhb46ZIiFn",
        "outputId": "6b003ff5-1370-430c-ff70-53c636fc40bc"
      },
      "execution_count": null,
      "outputs": [
        {
          "output_type": "execute_result",
          "data": {
            "text/plain": [
              "0.975"
            ]
          },
          "metadata": {},
          "execution_count": 20
        }
      ]
    },
    {
      "cell_type": "code",
      "source": [
        "pca = PCA()\n",
        "pca.fit(X)\n",
        "print(pca.explained_variance_ratio_)"
      ],
      "metadata": {
        "colab": {
          "base_uri": "https://localhost:8080/"
        },
        "id": "6U6kDB0YIo8m",
        "outputId": "9cefe224-8b75-4333-aa59-6a094c547b41"
      },
      "execution_count": null,
      "outputs": [
        {
          "output_type": "stream",
          "name": "stdout",
          "text": [
            "[1.51318354e-01 8.66473770e-02 6.79937916e-02 5.83725052e-02\n",
            " 4.38806273e-02 4.10989889e-02 3.98984748e-02 3.49061737e-02\n",
            " 3.15495984e-02 2.91865506e-02 2.81213734e-02 2.60922558e-02\n",
            " 2.38299340e-02 2.29824675e-02 2.27742071e-02 2.17580737e-02\n",
            " 2.02809969e-02 1.96545354e-02 1.80575110e-02 1.77605544e-02\n",
            " 1.73330725e-02 1.65028570e-02 1.63646742e-02 1.52165975e-02\n",
            " 1.42447354e-02 1.38888873e-02 1.31928228e-02 1.27301630e-02\n",
            " 1.24881204e-02 1.21090544e-02 1.16433776e-02 1.04042517e-02\n",
            " 9.71283915e-03 8.60169732e-03 6.73107248e-03 2.30288027e-03\n",
            " 3.68545955e-04 2.06777973e-31 9.01610635e-32 2.86892961e-32]\n"
          ]
        }
      ]
    },
    {
      "cell_type": "code",
      "source": [
        "X1 = pca.fit_transform(X)\n",
        "X1.shape"
      ],
      "metadata": {
        "colab": {
          "base_uri": "https://localhost:8080/"
        },
        "id": "U_U3gsNsIvFi",
        "outputId": "d35b2206-37a6-4683-fb7a-c057da707a9b"
      },
      "execution_count": null,
      "outputs": [
        {
          "output_type": "execute_result",
          "data": {
            "text/plain": [
              "(40, 40)"
            ]
          },
          "metadata": {},
          "execution_count": 30
        }
      ]
    },
    {
      "cell_type": "code",
      "source": [
        "SVM1 = SVC(kernel='linear')\n",
        "SVM1.fit(X1,Y)"
      ],
      "metadata": {
        "colab": {
          "base_uri": "https://localhost:8080/"
        },
        "id": "WwOtp1OKK-jV",
        "outputId": "45a1f194-0cfa-4680-83fd-198273bc1107"
      },
      "execution_count": null,
      "outputs": [
        {
          "output_type": "execute_result",
          "data": {
            "text/plain": [
              "SVC(kernel='linear')"
            ]
          },
          "metadata": {},
          "execution_count": 38
        }
      ]
    },
    {
      "cell_type": "code",
      "source": [
        "p2 = SVM1.predict(X1)\n",
        "p2"
      ],
      "metadata": {
        "colab": {
          "base_uri": "https://localhost:8080/"
        },
        "id": "XcsNbpdeLLjM",
        "outputId": "0850e254-8394-4a55-e71a-68fb29be30b3"
      },
      "execution_count": null,
      "outputs": [
        {
          "output_type": "execute_result",
          "data": {
            "text/plain": [
              "array([False, False, False, False, False, False, False, False, False,\n",
              "       False, False, False, False, False, False, False, False, False,\n",
              "       False, False,  True,  True,  True,  True,  True,  True,  True,\n",
              "        True,  True,  True,  True,  True,  True,  True,  True,  True,\n",
              "        True,  True,  True,  True])"
            ]
          },
          "metadata": {},
          "execution_count": 39
        }
      ]
    },
    {
      "cell_type": "code",
      "source": [
        "cm = confusion_matrix(p2,Y)\n",
        "cm"
      ],
      "metadata": {
        "colab": {
          "base_uri": "https://localhost:8080/"
        },
        "id": "M6GEsNg_LZth",
        "outputId": "0d805985-95f2-4ce9-f6d2-9fffbd1963bb"
      },
      "execution_count": null,
      "outputs": [
        {
          "output_type": "execute_result",
          "data": {
            "text/plain": [
              "array([[20,  0],\n",
              "       [ 0, 20]])"
            ]
          },
          "metadata": {},
          "execution_count": 43
        }
      ]
    },
    {
      "cell_type": "code",
      "source": [
        "accuracy_score(p2,Y)"
      ],
      "metadata": {
        "colab": {
          "base_uri": "https://localhost:8080/"
        },
        "id": "K7RRxx7iLfxk",
        "outputId": "5039104e-47eb-48ab-f600-3e8ef6148dd5"
      },
      "execution_count": null,
      "outputs": [
        {
          "output_type": "execute_result",
          "data": {
            "text/plain": [
              "1.0"
            ]
          },
          "metadata": {},
          "execution_count": 44
        }
      ]
    }
  ]
}